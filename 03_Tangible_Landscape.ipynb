{
 "cells": [
  {
   "cell_type": "markdown",
   "metadata": {
    "id": "yzcNNv6CO0v3"
   },
   "source": [
    "# Writing Scripts for Tangible Landscape\n",
    "\n",
    "***Caitlin Haedrich, Pratikshya Regmi, Anna Petrasova and Helena Mitasova***\n",
    "\n",
    "*Center for Geospatial Analytics at NC State University*\n",
    "\n",
    "<img src=\"./img/applications.jpg\" />\n",
    "\n",
    "[Tangible Landscape](https://tangible-landscape.github.io/) is a tangible user interface for GRASS, available as an addon on [GitHub](https://github.com/tangible-landscape). Using a physical landscape model for inputs, custom workflows can be easily constructed in a Python script then the results projected back onto the landscape.\n",
    "\n",
    "Example workflows, referred to as activites in the documentation, can be found on GitHub and documentation on how to install, configure and build your own setup with custom activities is also on GitHub.\n",
    "\n",
    "In this notebook, we'll convert "
   ]
  },
  {
   "cell_type": "markdown",
   "metadata": {
    "tags": []
   },
   "source": [
    "***\n",
    "\n",
    "## Imports and Start GRASS"
   ]
  },
  {
   "cell_type": "markdown",
   "metadata": {},
   "source": [
    "Import the Python standard libraries we need."
   ]
  },
  {
   "cell_type": "code",
   "execution_count": null,
   "metadata": {},
   "outputs": [],
   "source": [
    "import subprocess\n",
    "import sys\n",
    "from pathlib import Path\n",
    "\n",
    "sys.path.append(\n",
    "    subprocess.check_output([\"grass\", \"--config\", \"python_path\"], text=True).strip()\n",
    ")\n",
    "\n",
    "# Import the GRASS GIS packages we need.\n",
    "import grass.script as gs\n",
    "import grass.jupyter as gj"
   ]
  },
  {
   "cell_type": "code",
   "execution_count": null,
   "metadata": {},
   "outputs": [],
   "source": [
    "gj.init(\"./csdms-grass-2025/PERMANENT\");"
   ]
  },
  {
   "cell_type": "code",
   "execution_count": null,
   "metadata": {
    "tags": []
   },
   "outputs": [],
   "source": [
    "!g.list type=all"
   ]
  },
  {
   "cell_type": "code",
   "execution_count": null,
   "metadata": {},
   "outputs": [],
   "source": [
    "!g.region -p"
   ]
  },
  {
   "cell_type": "markdown",
   "metadata": {
    "id": "ZqZWCOVLjbjV"
   },
   "source": [
    "\n",
    "\n",
    "---\n",
    "\n",
    "\n",
    "\n",
    "## From Notebook Workflow to Executable Script\n",
    "\n",
    "Tangible Landscape uses scripts to execute analyses on the scanned terrain. Here we show some examples of how to structure GRASS Python scripts.\n",
    "\n",
    "The `%%writefile` cell magic takes the content of the cell and writes it to a file. The `%%python` magic will execute the file."
   ]
  },
  {
   "cell_type": "code",
   "execution_count": null,
   "metadata": {
    "id": "nzxQhfeWjZ-r"
   },
   "outputs": [],
   "source": [
    "%%file curvature.py\n",
    "#!/usr/bin/env python3\n",
    "\n",
    "import os\n",
    "import grass.script as gs\n",
    "\n",
    "\n",
    "def run_slope(scanned_elev, env, **kwargs):\n",
    "    gs.run_command(\"r.slope.aspect\", elevation=scanned_elev, slope=\"slope\", env=env)\n",
    "\n",
    "\n",
    "def main():\n",
    "    env = os.environ.copy()\n",
    "    env[\"GRASS_OVERWRITE\"] = \"1\"\n",
    "    elevation = \"elev_lid792_1m\"\n",
    "    elev_resampled = \"elev_resampled\"\n",
    "    gs.run_command(\"g.region\", raster=elevation, res=4, flags=\"a\", env=env)\n",
    "    gs.run_command(\"r.resamp.stats\", input=elevation, output=elev_resampled, env=env)\n",
    "\n",
    "    run_slope(scanned_elev=elev_resampled, env=env)\n",
    "\n",
    "\n",
    "if __name__ == \"__main__\":\n",
    "    main()\n"
   ]
  },
  {
   "cell_type": "markdown",
   "metadata": {
    "id": "6zohRVTaF3Br"
   },
   "source": [
    "Now test the script:"
   ]
  },
  {
   "cell_type": "code",
   "execution_count": null,
   "metadata": {
    "id": "s8zzliAFso9r"
   },
   "outputs": [],
   "source": [
    "%%python curvature.py"
   ]
  },
  {
   "cell_type": "markdown",
   "metadata": {
    "id": "3E4TBKjeF6fG"
   },
   "source": [
    "And visualize the result using the `grass.jupyter` API:"
   ]
  },
  {
   "cell_type": "code",
   "execution_count": null,
   "metadata": {
    "id": "ajp14v-QsozD"
   },
   "outputs": [],
   "source": [
    "map = gj.Map()\n",
    "map.d_rast(map=\"pcurvature\")\n",
    "map.show()"
   ]
  },
  {
   "cell_type": "markdown",
   "metadata": {},
   "source": [
    "TODO: add viewshed here from the coordinates so we can use it on TL"
   ]
  },
  {
   "cell_type": "markdown",
   "metadata": {
    "id": "t-LZoFD9rnJq"
   },
   "source": [
    "Now if your workflow requires a vector points map or coordinates, use this template:"
   ]
  },
  {
   "cell_type": "code",
   "execution_count": null,
   "metadata": {
    "id": "JecIgRptrmaB"
   },
   "outputs": [],
   "source": [
    "%%writefile yourlastname.py\n",
    "import grass.script as gs\n",
    "\n",
    "def get_coordinates(points):\n",
    "    \"\"\"Helper function to get coordinate pairs from a vector point layer.\n",
    "    Do not modify.\"\"\"\n",
    "    data = gs.read_command(\"v.out.ascii\", input=points, separator=\"comma\").splitlines()\n",
    "    return [[float(coor) for coor in point.split(\",\")[:2]] for point in data]\n",
    "\n",
    "# modify here\n",
    "# change function name\n",
    "def myanalysis(elevation, points):\n",
    "    \"\"\"Traces a flow through an elevation model\"\"\"\n",
    "    coordinates = get_coordinates(points)\n",
    "    if coordinates:\n",
    "        gs.run_command(\"r.drain\", input=elevation, output=\"drain\", drain=\"drain_vector\", start_coordinates=coordinates)\n",
    "\n",
    "if __name__ == \"__main__\":\n",
    "    elevation = \"elevation\"\n",
    "    points = \"lagoon_points\"\n",
    "    myanalysis(elevation=elevation, points=points)"
   ]
  },
  {
   "cell_type": "code",
   "execution_count": null,
   "metadata": {
    "id": "aZGchSbHkY2v"
   },
   "outputs": [],
   "source": [
    "%%python yourlastname.py"
   ]
  },
  {
   "cell_type": "code",
   "execution_count": null,
   "metadata": {
    "id": "-hGVX4TEkuL7"
   },
   "outputs": [],
   "source": [
    "map = gj.Map()\n",
    "map.d_rast(map=\"elevation\")\n",
    "map.d_vect(map=\"drain_vector\")\n",
    "map.show()"
   ]
  },
  {
   "cell_type": "markdown",
   "metadata": {},
   "source": [
    "## Activity JSON file"
   ]
  },
  {
   "cell_type": "code",
   "execution_count": null,
   "metadata": {},
   "outputs": [],
   "source": []
  }
 ],
 "metadata": {
  "colab": {
   "provenance": []
  },
  "kernelspec": {
   "display_name": "Python 3 (ipykernel)",
   "language": "python",
   "name": "python3"
  },
  "language_info": {
   "codemirror_mode": {
    "name": "ipython",
    "version": 3
   },
   "file_extension": ".py",
   "mimetype": "text/x-python",
   "name": "python",
   "nbconvert_exporter": "python",
   "pygments_lexer": "ipython3",
   "version": "3.9.9"
  }
 },
 "nbformat": 4,
 "nbformat_minor": 4
}
