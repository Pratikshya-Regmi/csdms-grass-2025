{
 "cells": [
  {
   "cell_type": "markdown",
   "metadata": {
    "id": "yzcNNv6CO0v3"
   },
   "source": [
    "# Writing Scripts for Tangible Landscape\n",
    "\n",
    "***Caitlin Haedrich, Pratikshya Regmi, Anna Petrasova and Helena Mitasova***\n",
    "\n",
    "*Center for Geospatial Analytics at NC State University*\n",
    "\n",
    "<img src=\"./img/applications.jpg\" />\n",
    "\n",
    "[Tangible Landscape](https://tangible-landscape.github.io/) is a tangible user interface for GRASS, available as an addon on [GitHub](https://github.com/tangible-landscape). Using a physical landscape model for inputs, custom workflows can be easily constructed in a Python script then the results projected back onto the landscape.\n",
    "\n",
    "Example workflows, referred to as activites in the documentation, can be found on GitHub and documentation on how to install, configure and build your own setup with custom activities is also on GitHub.\n",
    "\n",
    "In this notebook, we'll convert some of our workflows from the case study into Tangible Landscape activities. Tangible Landscape activities consist of two files:\n",
    "1. [A python file](#python) that contains the executable analysis to run on the terrain\n",
    "2. [A JSON file](#json) that contains information about the activity, what layers to display and parameters for the scanner"
   ]
  },
  {
   "cell_type": "markdown",
   "metadata": {
    "tags": []
   },
   "source": [
    "***\n",
    "\n",
    "## Imports and Start GRASS"
   ]
  },
  {
   "cell_type": "markdown",
   "metadata": {},
   "source": [
    "Import the Python standard libraries we need."
   ]
  },
  {
   "cell_type": "code",
   "execution_count": null,
   "metadata": {},
   "outputs": [],
   "source": [
    "import subprocess\n",
    "import sys\n",
    "from pathlib import Path\n",
    "\n",
    "sys.path.append(\n",
    "    subprocess.check_output([\"grass\", \"--config\", \"python_path\"], text=True).strip()\n",
    ")\n",
    "\n",
    "# Import the GRASS GIS packages we need.\n",
    "import grass.script as gs\n",
    "import grass.jupyter as gj"
   ]
  },
  {
   "cell_type": "code",
   "execution_count": null,
   "metadata": {},
   "outputs": [],
   "source": [
    "gj.init(\"./nc-swine/PERMANENT\");"
   ]
  },
  {
   "cell_type": "markdown",
   "metadata": {},
   "source": [
    "Make a new mapset for tangible landscape:"
   ]
  },
  {
   "cell_type": "code",
   "execution_count": null,
   "metadata": {},
   "outputs": [],
   "source": [
    "gs.run_command(\"g.mapset\", mapset=\"tangible_landscape\", location=\"./nc-swine\", flags=\"c\")"
   ]
  },
  {
   "cell_type": "code",
   "execution_count": null,
   "metadata": {},
   "outputs": [],
   "source": [
    "!g.region -p"
   ]
  },
  {
   "cell_type": "code",
   "execution_count": null,
   "metadata": {},
   "outputs": [],
   "source": [
    "!g.region -a vector=\"lagoons\" res=10"
   ]
  },
  {
   "cell_type": "markdown",
   "metadata": {
    "id": "ZqZWCOVLjbjV"
   },
   "source": [
    "<a name=\"python\"></a>\n",
    "\n",
    "\n",
    "---\n",
    "\n",
    "\n",
    "\n",
    "## From Notebook Workflow to Executable Script\n",
    "\n",
    "Tangible Landscape uses scripts to execute analyses on the scanned terrain. The scripts have certain formatting and parameters allowing the Tangible Landscape execute it. See the [wiki page](https://github.com/tangible-landscape/grass-tangible-landscape/wiki/Running-analyses-and-developing-workflows) for details.\n",
    "\n",
    "The `%%file` cell magic takes the content of the cell and writes it to a file. The `%%python` magic will execute the file."
   ]
  },
  {
   "cell_type": "markdown",
   "metadata": {},
   "source": [
    "### Slope Example"
   ]
  },
  {
   "cell_type": "code",
   "execution_count": null,
   "metadata": {
    "id": "nzxQhfeWjZ-r"
   },
   "outputs": [],
   "source": [
    "%%writefile slope.py\n",
    "#!/usr/bin/env python3\n",
    "\n",
    "import os\n",
    "import grass.script as gs\n",
    "\n",
    "\n",
    "def run_slope(scanned_elev, env, **kwargs):\n",
    "    gs.run_command(\"r.slope.aspect\", elevation=scanned_elev, slope=\"slope\", env=env)\n",
    "\n",
    "\n",
    "def main():\n",
    "    env = os.environ.copy()\n",
    "    env[\"GRASS_OVERWRITE\"] = \"1\"\n",
    "    elevation = \"elevation\"\n",
    "    elev_resampled = \"elev_resampled\"\n",
    "    # We use resampling to get a similar resolution as with Tangible Landscape.\n",
    "    gs.run_command(\"g.region\", raster=elevation, res=20, flags=\"a\", env=env)\n",
    "    gs.run_command(\"r.resamp.stats\", input=elevation, output=elev_resampled, env=env)\n",
    "\n",
    "    run_slope(scanned_elev=elev_resampled, env=env)\n",
    "\n",
    "\n",
    "if __name__ == \"__main__\":\n",
    "    main()\n"
   ]
  },
  {
   "cell_type": "markdown",
   "metadata": {
    "id": "6zohRVTaF3Br"
   },
   "source": [
    "Now execute the script:"
   ]
  },
  {
   "cell_type": "code",
   "execution_count": null,
   "metadata": {
    "id": "s8zzliAFso9r"
   },
   "outputs": [],
   "source": [
    "%run slope.py"
   ]
  },
  {
   "cell_type": "markdown",
   "metadata": {
    "id": "3E4TBKjeF6fG"
   },
   "source": [
    "And visualize the result using the `grass.jupyter` API:"
   ]
  },
  {
   "cell_type": "code",
   "execution_count": null,
   "metadata": {
    "id": "ajp14v-QsozD"
   },
   "outputs": [],
   "source": [
    "map = gj.Map()\n",
    "map.d_rast(map=\"slope\")\n",
    "map.show()"
   ]
  },
  {
   "cell_type": "markdown",
   "metadata": {
    "id": "t-LZoFD9rnJq"
   },
   "source": [
    "### Drain Path\n",
    "\n",
    "Here is another example activity that uses pins and computes the drainage path from the pin (Question 2 from Notebook 2):"
   ]
  },
  {
   "cell_type": "code",
   "execution_count": null,
   "metadata": {
    "id": "JecIgRptrmaB"
   },
   "outputs": [],
   "source": [
    "%%writefile drain.py\n",
    "#!/usr/bin/env python3\n",
    "\n",
    "import os\n",
    "import grass.script as gs\n",
    "\n",
    "\n",
    "def run_drain(scanned_elev, scanned_calib_elev, env, points=None, **kwargs):\n",
    "\n",
    "    if not points:\n",
    "        # If there are no points, ask Tangible Landscape to generate points from\n",
    "        # a change in the surface.\n",
    "        points = \"points\"\n",
    "        import analyses\n",
    "\n",
    "        analyses.change_detection(\n",
    "            scanned_calib_elev,\n",
    "            scanned_elev,\n",
    "            points,\n",
    "            height_threshold=[10, 100],\n",
    "            cells_threshold=[5, 50],\n",
    "            add=True,\n",
    "            max_detected=5,\n",
    "            debug=True,\n",
    "            env=env,\n",
    "        )\n",
    "    # get drainage direction raster\n",
    "    gs.run_command(\n",
    "        \"r.watershed\",\n",
    "        elevation=scanned_calib_elev,\n",
    "        drainage=\"drainage\",\n",
    "        env=env\n",
    "    )\n",
    "    \n",
    "    # run drainage\n",
    "    gs.run_command(\n",
    "        \"r.path\",\n",
    "        input=\"drainage\",\n",
    "        start_points=points,\n",
    "        vector_path=\"drain\",\n",
    "        env=env\n",
    "    )\n",
    "\n",
    "\n",
    "def main():\n",
    "    env = os.environ.copy()\n",
    "    env[\"GRASS_OVERWRITE\"] = \"1\"\n",
    "    elevation = \"elevation\"\n",
    "    elev_resampled = \"elev_resampled\"\n",
    "    # We use resampling to get a similar resolution as with Tangible Landscape.\n",
    "    gs.run_command(\"g.region\", raster=elevation, res=20, flags=\"a\", env=env)\n",
    "    gs.run_command(\"r.resamp.stats\", input=elevation, output=elev_resampled, env=env)\n",
    "\n",
    "    # Create points which is the additional input needed for the process.\n",
    "    points = \"points\"\n",
    "    gs.write_command(\n",
    "        \"v.in.ascii\",\n",
    "        flags=\"t\",\n",
    "        input=\"-\",\n",
    "        output=points,\n",
    "        separator=\"comma\",\n",
    "        stdin=\"705505.0,129735.0\",\n",
    "        env=env,\n",
    "    )\n",
    "    # Call the analysis.\n",
    "    run_drain(scanned_elev=elev_resampled, scanned_calib_elev=elev_resampled, env=env, points=points)\n",
    "\n",
    "\n",
    "if __name__ == \"__main__\":\n",
    "    main()"
   ]
  },
  {
   "cell_type": "code",
   "execution_count": null,
   "metadata": {
    "id": "aZGchSbHkY2v"
   },
   "outputs": [],
   "source": [
    "%run drain.py"
   ]
  },
  {
   "cell_type": "code",
   "execution_count": null,
   "metadata": {
    "id": "-hGVX4TEkuL7"
   },
   "outputs": [],
   "source": [
    "map = gj.Map()\n",
    "map.d_rast(map=\"elevation\")\n",
    "map.d_vect(map=\"drain\")\n",
    "map.show()"
   ]
  },
  {
   "cell_type": "markdown",
   "metadata": {},
   "source": [
    "<a name=\"python\"></a>\n",
    "\n",
    "---\n",
    "\n",
    "## JSON Configuration File\n",
    "\n",
    "The JSON file contains the metadata about the activity such as the title and instructions along with instructions for Tangible Landscape such as the what layers to display, scanning parameters and whether a calibration step is required. A full list of parameters is on the [wiki page](https://github.com/tangible-landscape/grass-tangible-landscape/blob/master/activities_config_documentation.md)."
   ]
  },
  {
   "cell_type": "code",
   "execution_count": null,
   "metadata": {},
   "outputs": [],
   "source": [
    "%%file config.json\n",
    "{\n",
    "  \"tasks\": [\n",
    "    {\n",
    "      \"layers\": [\n",
    "        [\"d.rast\", \"map=slope\"]\n",
    "      ],\n",
    "      \"base\": \"elevation\",\n",
    "      \"scanning_params\": {\n",
    "        \"smooth\": 10,\n",
    "        \"zexag\": 2,\n",
    "        \"numscans\": 1,\n",
    "        \"interpolate\": true\n",
    "      },\n",
    "      \"analyses\": \"slope.py\",\n",
    "      \"title\": \"Slope and Contours\",\n",
    "      \"author\": \"CSDMS Workshop 2025\",\n",
    "      \"instructions\": \"Change topography and observe changes in slope.\"\n",
    "    },\n",
    "    {\n",
    "      \"layers\": [\n",
    "        [\"d.rast\", \"map=scan_saved\"],\n",
    "        [\"d.vect\", \"map=drain\"]\n",
    "      ],\n",
    "      \"base\": \"elevation\",\n",
    "      \"calibrate\": true,\n",
    "      \"scanning_params\": {\n",
    "        \"smooth\": 10,\n",
    "        \"zexag\": 2,\n",
    "        \"numscans\": 1,\n",
    "        \"interpolate\": true\n",
    "      },\n",
    "      \"analyses\": \"drain.py\",\n",
    "      \"title\": \"Drainage Path\",\n",
    "      \"author\": \"CSDMS Workshop 2025\",\n",
    "      \"instructions\": \"Place pin on landscape and observe drainage path from point.\"\n",
    "    } \n",
    "  ]\n",
    "}"
   ]
  },
  {
   "cell_type": "markdown",
   "metadata": {},
   "source": [
    "---\n",
    "\n",
    "## **Try it yourself!**\n",
    "\n",
    "Create an activity for computing the area upstream of a sample site that will be marked with a pin. This is similar to question 3 in the [Case Study notebook](./02_Case_Study.ipynb)."
   ]
  },
  {
   "cell_type": "code",
   "execution_count": null,
   "metadata": {},
   "outputs": [],
   "source": []
  }
 ],
 "metadata": {
  "colab": {
   "provenance": []
  },
  "kernelspec": {
   "display_name": "Python 3 (ipykernel)",
   "language": "python",
   "name": "python3"
  },
  "language_info": {
   "codemirror_mode": {
    "name": "ipython",
    "version": 3
   },
   "file_extension": ".py",
   "mimetype": "text/x-python",
   "name": "python",
   "nbconvert_exporter": "python",
   "pygments_lexer": "ipython3",
   "version": "3.10.10"
  }
 },
 "nbformat": 4,
 "nbformat_minor": 4
}
