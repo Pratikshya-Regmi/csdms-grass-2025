{
 "cells": [
  {
   "cell_type": "markdown",
   "metadata": {
    "id": "yzcNNv6CO0v3"
   },
   "source": [
    "# Case Study: Swine lagoons\n",
    "\n",
    "***Caitlin Haedrich, Pratikshya Regmi, Anna Petrasova and Helena Mitasova***\n",
    "\n",
    "*Center for Geospatial Analytics at NC State University*\n",
    "\n",
    "North Carolina is one of the top pork producing states in the US, surpassed only by Minnesota and Iowa. The large industry in North Carolina consists of hundreds of large-scale farms raise pigs, processing facilities, trucks that transport the animals and fields that grow the grains for feed. Raising over 8 million pigs in a concentrated area creates one big issue: waste.\n",
    "\n",
    "<img src=\"https://raw.githubusercontent.com/chaedri/chaedri.github.io/refs/heads/master/images/CAFOs.png\" />\n",
    "\n",
    "The waste is typically stored in large retention ponds referred to as *lagoons*. The waste anaerobically digests and then is spread on the nearby fields as fertilizer. However, during catastorphic flooding events such as [Hurricane Florence in 2018](https://www.npr.org/2018/09/22/650698240/hurricane-s-aftermath-floods-hog-lagoons-in-north-carolina), the flood waters can overtop the sides of the lagoon introducing the waste to the surrounding environment.\n",
    "\n",
    "<img src=\"https://modernfarmer.com/wp-content/uploads/2022/02/16442235689_6f9667cc05_k-768x489.jpg\" />\n",
    "\n",
    "\n",
    "Part of the Cape Fear Watershed, Stocking Head Creek flows through a heavily agricultural area and has some of the highest densities of swine farms in the country. We'll compute where the swine waste would flow in the case of a storage lagoon leak and how much the creek would need to flood in order to innundate the lagoon and introduce the waste matter to the environment.\n",
    "\n",
    "Let's use the lagoon locations and DEM to answer 4 questions:\n",
    "\n",
    "[1. If the lagoons overflowed, what path would the waste travel to the nearest waterway?](#drain)\n",
    "\n",
    "[2. If the stream water level rose 1 meter, would any of the lagoons be breached?](#hand)\n",
    "\n",
    "[3. What is the upstream contributing area for a hypothetical sample point?](#upstream)\n",
    "\n",
    "[4. What are the overland flow dynamics during a heavy rainstorm in the upstream contributing area?](#simwe)"
   ]
  },
  {
   "cell_type": "markdown",
   "metadata": {
    "tags": []
   },
   "source": [
    "***\n",
    "\n",
    "## Imports and Start GRASS"
   ]
  },
  {
   "cell_type": "markdown",
   "metadata": {},
   "source": [
    "Import the Python standard libraries we need."
   ]
  },
  {
   "cell_type": "code",
   "execution_count": null,
   "metadata": {},
   "outputs": [],
   "source": [
    "import subprocess\n",
    "import sys\n",
    "from pathlib import Path\n",
    "import numpy as np\n",
    "\n",
    "sys.path.append(\n",
    "    subprocess.check_output([\"grass\", \"--config\", \"python_path\"], text=True).strip()\n",
    ")\n",
    "\n",
    "# Import the GRASS GIS packages we need.\n",
    "import grass.script as gs\n",
    "import grass.jupyter as gj"
   ]
  },
  {
   "cell_type": "code",
   "execution_count": null,
   "metadata": {},
   "outputs": [],
   "source": [
    "gj.init(\"./nc-swine/PERMANENT\");"
   ]
  },
  {
   "cell_type": "code",
   "execution_count": null,
   "metadata": {
    "tags": []
   },
   "outputs": [],
   "source": [
    "!g.list type=all"
   ]
  },
  {
   "cell_type": "code",
   "execution_count": null,
   "metadata": {},
   "outputs": [],
   "source": [
    "!g.region -p"
   ]
  },
  {
   "cell_type": "markdown",
   "metadata": {
    "id": "WJl38-WtLcEs"
   },
   "source": [
    "<a name=\"drain\"></a>\n",
    "\n",
    "***\n",
    "\n",
    "## __Question 1:__ *If the lagoons overflowed or were breached, what path would the waste travel to the nearest waterway?*\n",
    "\n",
    "(This does happen and has serious consequences:  [news article](https://www.newsobserver.com/news/state/north-carolina/article264779224.html)).\n",
    "\n",
    "The [r.watershed](https://grass.osgeo.org/grass-devel/manuals/r.watershed.html) tool is a popular and powerful tool for hydrology. Check out all of the outputs it can compute in the [manual page](https://grass.osgeo.org/grass-devel/manuals/r.watershed.html). Here we'll use it to compute the flow accumulation (how many cells are upstream of a given cell) and drainage direction (what direction a particle would flow from each cell). By default the tool uses multiple flow direction algorithm, which works better on a flat landscape. We don't need to fill sinks, because r.watershed uses least-cost path approach for routing through depressions. Then, we'll use [r.path](https://grass.osgeo.org/grass-devel/manuals/r.path.html) to trace the route of the waste being transported downhill from the lagoon."
   ]
  },
  {
   "cell_type": "markdown",
   "metadata": {},
   "source": [
    "**Try it yourself!**\n",
    "\n",
    "_Use [r.watershed](https://grass.osgeo.org/grass-devel/manuals/r.watershed.html) to compute accumulation and drainage direction, outputting two new raster layers called \"accumulation\" and \"drainage\" (`accumulation=\"accumulation\", drainage=\"drainage\"`). Look at the manual page or use `--help` for hints. For input, use `elevation=\"elevation\"`._"
   ]
  },
  {
   "cell_type": "code",
   "execution_count": null,
   "metadata": {},
   "outputs": [],
   "source": []
  },
  {
   "cell_type": "markdown",
   "metadata": {},
   "source": [
    "<details>\n",
    "    <summary>👉 <b>click to see solution</b></summary>\n",
    "    \n",
    "```python\n",
    "gs.run_command(\"r.watershed\", elevation=\"elevation\", accumulation=\"accumulation\", drainage=\"drainage\")\n",
    "```\n",
    "</details>"
   ]
  },
  {
   "cell_type": "code",
   "execution_count": null,
   "metadata": {
    "id": "4bX0AJflzjCj"
   },
   "outputs": [],
   "source": [
    "map = gj.InteractiveMap()\n",
    "map.add_raster(\"accumulation\", opacity=0.5)\n",
    "map.show()"
   ]
  },
  {
   "cell_type": "markdown",
   "metadata": {},
   "source": [
    "Use `v.type` to get the centeroid of each lagoon."
   ]
  },
  {
   "cell_type": "code",
   "execution_count": null,
   "metadata": {},
   "outputs": [],
   "source": [
    "gs.run_command(\"v.type\", input=\"lagoons\", output=\"lagoon_points\", from_type=\"centroid\", to_type=\"point\")"
   ]
  },
  {
   "cell_type": "markdown",
   "metadata": {},
   "source": [
    "**Try it yourself!**\n",
    "\n",
    "Use [r.path](https://grass.osgeo.org/grass-devel/manuals/r.path.html) with `input=\"drainage\"` and `start_points=\"lagoon_points\"` to compute the drainage path from each lagoon. Call the output vector `\"drain\"`."
   ]
  },
  {
   "cell_type": "code",
   "execution_count": null,
   "metadata": {
    "id": "RfcdrnlELxbT"
   },
   "outputs": [],
   "source": []
  },
  {
   "cell_type": "markdown",
   "metadata": {},
   "source": [
    "<details>\n",
    "    <summary>👉 <b>click to see solution</b></summary>\n",
    "    \n",
    "```python\n",
    "gs.run_command(\"r.path\", input=\"drainage\", start_points=\"lagoon_points\", vector_path=\"drain\")\n",
    "```\n",
    "</details>"
   ]
  },
  {
   "cell_type": "markdown",
   "metadata": {
    "id": "tvNyxtLa2Lw_"
   },
   "source": [
    "Let's see what is the landcover the water from lagoons would flow through:"
   ]
  },
  {
   "cell_type": "code",
   "execution_count": null,
   "metadata": {
    "id": "o8f4tlIWGo4t"
   },
   "outputs": [],
   "source": [
    "map = gj.Map()\n",
    "map.d_shade(color=\"ortho\", shade=\"relief\", brighten=50)\n",
    "# map.d_rast(map=\"elevation\")\n",
    "map.d_vect(map=\"drain\", width=1, color=\"blue\")\n",
    "map.d_vect(map=\"lagoon_points\", icon=\"basic/pin\", color=\"red\")\n",
    "map.show()"
   ]
  },
  {
   "cell_type": "markdown",
   "metadata": {
    "id": "UYwyog18L1OX"
   },
   "source": [
    "<a name=\"hand\"></a>\n",
    "\n",
    "***\n",
    "\n",
    "## __Question 2:__ *If the stream water level rose 1 meter, would any of the lagoon be breached?*\n",
    "\n",
    "To answer this question, we'll use the HAND (height above nearest drainage) method to model the flood [(Nobre et al., 2011)](https://www.sciencedirect.com/science/article/pii/S0022169411002599).\n",
    "\n",
    "First, we'll add the extension we need for this workflow."
   ]
  },
  {
   "cell_type": "code",
   "execution_count": null,
   "metadata": {
    "id": "oINy4SvJBoOc"
   },
   "outputs": [],
   "source": [
    "gs.run_command(\"g.extension\", extension=\"r.stream.distance\")"
   ]
  },
  {
   "cell_type": "markdown",
   "metadata": {
    "id": "MGpibgYzPl-F"
   },
   "source": [
    "The (`r.stream.extract`)[https://grass.osgeo.org/grass-devel/manuals/r.stream.extract.html] tool extracts streams from a DEM. Providing the flow accumulutaion speeds up the computation. The threshold determines how high the accumulation needs to be for a cell to be stream."
   ]
  },
  {
   "cell_type": "code",
   "execution_count": null,
   "metadata": {
    "id": "9TKSC_BpHIoq"
   },
   "outputs": [],
   "source": [
    "gs.run_command(\"r.stream.extract\", elevation=\"elevation\", accumulation=\"accumulation\",\n",
    "               stream_raster=\"streams\", stream_vector=\"streams\", direction=\"direction\", threshold=10000)\n",
    "map = gj.Map()\n",
    "map.d_shade(color=\"elevation\", shade=\"relief\", brighten=50)\n",
    "map.d_vect(map=\"streams\", width=1, color=\"blue\", layer=1)\n",
    "map.d_vect(map=\"lagoon_points\", fill_color=\"none\")\n",
    "map.show()"
   ]
  },
  {
   "cell_type": "markdown",
   "metadata": {},
   "source": [
    "Use `r.stream.distance` to create the HAND raster."
   ]
  },
  {
   "cell_type": "code",
   "execution_count": null,
   "metadata": {},
   "outputs": [],
   "source": [
    "gs.run_command(\"r.stream.distance\", stream_rast=\"streams\", direction=\"direction\", elevation=\"elevation\", method=\"downstream\", difference=\"HAND\")\n",
    "map = gj.Map()\n",
    "map.d_shade(color=\"HAND\", shade=\"relief\", brighten=50)\n",
    "map.d_vect(map=\"streams\", width=1, color=\"blue\", layer=1)\n",
    "map.d_vect(map=\"lagoons\", fill_color=\"none\")\n",
    "map.show()"
   ]
  },
  {
   "cell_type": "markdown",
   "metadata": {},
   "source": [
    "We're going to use the [`r.lake`](https://grass.osgeo.org/grass-devel/manuals/r.lake.html) tool, which is a \"bathtub\" innundation model. By using the HAND raster as the elevation and the streams as the \"seed\", the bottom of the bathtub or start of the water, we'll simulate the water rising from 0 to 1m at 10cm intervals."
   ]
  },
  {
   "cell_type": "code",
   "execution_count": null,
   "metadata": {},
   "outputs": [],
   "source": [
    "start_water_level=0.\n",
    "end_water_level=1.\n",
    "water_level_step=0.1\n",
    "\n",
    "water_heights = np.arange(start_water_level, end_water_level, water_level_step)\n",
    "water_heights"
   ]
  },
  {
   "cell_type": "code",
   "execution_count": null,
   "metadata": {},
   "outputs": [],
   "source": [
    "for height in water_heights:\n",
    "    gs.run_command(\"r.lake\", elevation=\"HAND\", seed=\"streams\", water_level=height, lake=f\"flood_{round(height, 2)}\")"
   ]
  },
  {
   "cell_type": "code",
   "execution_count": null,
   "metadata": {},
   "outputs": [],
   "source": [
    "flood_rasters = gs.read_command(\"g.list\", type=\"raster\", pattern=\"flood*\").splitlines()\n",
    "flood_rasters"
   ]
  },
  {
   "cell_type": "code",
   "execution_count": null,
   "metadata": {
    "id": "mcWpg2pIHqgU"
   },
   "outputs": [],
   "source": [
    "map = gj.SeriesMap()\n",
    "map.d_rast(map=\"relief\")\n",
    "map.d_vect(map=\"lagoons\", fill_color=\"none\")\n",
    "map.add_rasters(flood_rasters)\n",
    "map.show()"
   ]
  },
  {
   "cell_type": "markdown",
   "metadata": {
    "id": "a_Ly3Gt8QAKv"
   },
   "source": [
    "It looks like one lagoon would be breached and a few more are very close to flooding."
   ]
  },
  {
   "cell_type": "markdown",
   "metadata": {
    "id": "YwCOUrkYP_3F"
   },
   "source": [
    "<a name=\"upstream\"></a>\n",
    "\n",
    "***\n",
    "\n",
    "## __Question 3:__ *What is the upstream contributing area for a hypothetical sample point?*\n",
    "\n",
    "To do this, we will extract a coordinate from a section of stream and then use [r.water.outlet](https://grass.osgeo.org/grass-devel/manuals/r.water.outlet.html) with the drainage direction raster to compute the upstream contribute area."
   ]
  },
  {
   "cell_type": "code",
   "execution_count": null,
   "metadata": {
    "id": "yaNfYmDd6dVV"
   },
   "outputs": [],
   "source": [
    "gs.run_command(\"v.extract\", input=\"streams\", output=\"stream_points\", type=\"point\")"
   ]
  },
  {
   "cell_type": "code",
   "execution_count": null,
   "metadata": {
    "id": "wwtTUJQ7J76K"
   },
   "outputs": [],
   "source": [
    "map = gj.Map()\n",
    "map.d_rast(map=\"relief\")\n",
    "map.d_vect(map=\"streams\", color=\"blue\")\n",
    "map.d_vect(map=\"stream_points\", display=\"cat\", label_color=\"white\", label_size=10)\n",
    "map.show()"
   ]
  },
  {
   "cell_type": "markdown",
   "metadata": {
    "id": "xEIQ_rY8UlCj"
   },
   "source": [
    "Let's use the point 34. Vector attributes are stored in a SQL database inside the project. We use [v.to.db](https://grass.osgeo.org/grass-devel/manuals/v.to.db.html) to add the feature coordinates to the attribute table, then [v.db.select](https://grass.osgeo.org/grass-devel/manuals/v.db.select.html) to select the category and coordinates and show them as a Pandas dataframe."
   ]
  },
  {
   "cell_type": "code",
   "execution_count": null,
   "metadata": {
    "id": "eZTlF9xPKh3G"
   },
   "outputs": [],
   "source": [
    "import pandas as pd\n",
    "\n",
    "gs.run_command(\"v.to.db\", map=\"stream_points\", option=\"coor\", type=\"point\", columns=\"x,y\")\n",
    "df = pd.DataFrame(gs.parse_command(\"v.db.select\", map=\"stream_points\", columns=\"cat,x,y\", format=\"json\")[\"records\"])\n",
    "df"
   ]
  },
  {
   "cell_type": "code",
   "execution_count": null,
   "metadata": {
    "id": "QqHPwm7UOGd9"
   },
   "outputs": [],
   "source": [
    "[df.loc[33, 'x'], df.loc[33, 'y']]"
   ]
  },
  {
   "cell_type": "markdown",
   "metadata": {},
   "source": [
    "**Try it yourself!**\n",
    "\n",
    "Use [r.water.outlet](https://grass.osgeo.org/grass-devel/manuals/r.water.outlet.html) to compute the upstream contributing area. Name the output `basin_34`."
   ]
  },
  {
   "cell_type": "code",
   "execution_count": null,
   "metadata": {
    "id": "jTWuz1k3Nnbp"
   },
   "outputs": [],
   "source": []
  },
  {
   "cell_type": "markdown",
   "metadata": {},
   "source": [
    "<details>\n",
    "    <summary>👉 <b>click to see solution</b></summary>\n",
    "    \n",
    "```python\n",
    "gs.run_command(\"r.water.outlet\", input=\"direction\", output=\"basin_34\", coordinates=[df.loc[33, 'x'], df.loc[33, 'y']])\n",
    "```\n",
    "</details>"
   ]
  },
  {
   "cell_type": "code",
   "execution_count": null,
   "metadata": {
    "id": "jTWuz1k3Nnbp"
   },
   "outputs": [],
   "source": [
    "map = gj.Map()\n",
    "map.d_shade(color=\"basin_34\", shade=\"relief\", brighten=50)\n",
    "map.show()"
   ]
  },
  {
   "cell_type": "markdown",
   "metadata": {
    "id": "_FOek5lNQ9Yc"
   },
   "source": [
    "<a name=\"simwe\"></a>\n",
    "\n",
    "***\n",
    "\n",
    "## __Question 4:__ *What are the overland flow dynamics during a heavy rainstorm in basin 34?*\n",
    "\n",
    "We're going to use [r.sim.water](https://grass.osgeo.org/grass-devel/manuals/r.sim.water.html) to model overland flow. The `r.sim.water` tool is the GRASS implementation of the SIMWE model ([Mitas and Mitasova, 1998](https://agupubs.onlinelibrary.wiley.com/doi/abs/10.1029/97WR03347)), a monte carlo path-tracing approach to solving the St. Venant equations for overland flow.\n",
    "\n",
    "First, let's set the computational region to the extent of `basin_34` for faster compute times."
   ]
  },
  {
   "cell_type": "code",
   "execution_count": null,
   "metadata": {
    "id": "hVcFCioMWo92"
   },
   "outputs": [],
   "source": [
    "gs.run_command(\"g.region\", zoom=\"basin_34\", res=10)"
   ]
  },
  {
   "cell_type": "markdown",
   "metadata": {
    "id": "vIhwP1GsYbw1"
   },
   "source": [
    "Run `r.sim.water` after computing the x and y direction derivatives. We'll run a 30-minute rainstorm using the default rainfall rate of 50 mm/hr. The output will be a series a map showing water depth at each minute."
   ]
  },
  {
   "cell_type": "code",
   "execution_count": null,
   "metadata": {
    "id": "5QmX349oGuDo"
   },
   "outputs": [],
   "source": [
    "gs.run_command('r.slope.aspect', elevation=\"elevation\", dx=\"dx\", dy=\"dy\")\n",
    "gs.run_command('r.sim.water', elevation=\"elevation\", dx=\"dx\", dy=\"dy\", depth=\"depth\", flags=\"t\", output_step=1, niterations=30)"
   ]
  },
  {
   "cell_type": "markdown",
   "metadata": {
    "id": "nVYVnHl8ZDgd"
   },
   "source": [
    "Finally, we'll create a temporal dataset and register the output depth maps. GRASS has [a library of tools](https://grass.osgeo.org/grass-devel/manuals/temporalintro.html) for temporal analyses but here, we will just create an animation of the timeseries."
   ]
  },
  {
   "cell_type": "code",
   "execution_count": null,
   "metadata": {
    "id": "W8oNd0fGQILx"
   },
   "outputs": [],
   "source": [
    "# Create a time series\n",
    "gs.run_command(\"t.create\",\n",
    "               output=\"depth\",\n",
    "               temporaltype=\"relative\",\n",
    "               title=\"Overland flow depth\",\n",
    "               description=\"Overland flow depth\")\n",
    "\n",
    "# Register the time series\n",
    "maps = gs.list_strings(type=\"raster\", pattern=\"depth*\")\n",
    "gs.run_command(\"t.register\", input=\"depth\", maps=maps)"
   ]
  },
  {
   "cell_type": "code",
   "execution_count": null,
   "metadata": {
    "id": "5pjxNaw8P-uy"
   },
   "outputs": [],
   "source": [
    "flow_map = gj.TimeSeriesMap()\n",
    "flow_map.add_raster_series(\"depth\")\n",
    "flow_map.show()"
   ]
  },
  {
   "cell_type": "markdown",
   "metadata": {},
   "source": [
    "**Try it yourself!**\n",
    "\n",
    "In addition to using the computational region to limit the computation, GRASS also has the [r.mask](https://grass.osgeo.org/grass-devel/manuals/r.mask.html) tool which allows for boundaries that are not rectangular.\n",
    "\n",
    "Apply a mask over the areas outside `basin_34`. Now, only areas inside `basin 34` will be displayed or used in any computation. Repeat the Question 4 workflow with the mask in place."
   ]
  },
  {
   "cell_type": "code",
   "execution_count": null,
   "metadata": {},
   "outputs": [],
   "source": []
  },
  {
   "cell_type": "markdown",
   "metadata": {},
   "source": [
    "<details>\n",
    "    <summary>👉 <b>click to see a hint</b></summary>\n",
    "    \n",
    "```python\n",
    "gs.run_command(\"r.mask\", raster=\"basin_15\")\n",
    "```\n",
    "</details>"
   ]
  },
  {
   "cell_type": "markdown",
   "metadata": {},
   "source": [
    "<details>\n",
    "    <summary>👉 <b>click to see another hint</b></summary>\n",
    "    \n",
    "With g.region, change the resolution with `res=10`. All the other commands can be copy pasted but to avoid overwriting our previous results, change \"depth\" to \"depth_highres\" or something similar.\n",
    "</details>"
   ]
  },
  {
   "cell_type": "markdown",
   "metadata": {},
   "source": [
    "<details>\n",
    "    <summary>👉 <b>click to see solution</b></summary>\n",
    "    \n",
    "```python\n",
    "gs.run_command(\"g.region\", zoom=\"basin_34\", res=10)\n",
    "gs.run_command(\"r.mask\", raster=\"basin_34\")\n",
    "gs.run_command('r.slope.aspect', elevation=\"elevation\", dx=\"dx\", dy=\"dy\")\n",
    "gs.run_command('r.sim.water', elevation=\"elevation\", dx=\"dx\", dy=\"dy\", depth=\"depth_mask\", output_step=1, flags=\"t\", niterations=30)\n",
    "# Create a time series\n",
    "gs.run_command(\"t.create\",\n",
    "               output=\"depth_mask\",\n",
    "               temporaltype=\"relative\",\n",
    "               title=\"Overland flow depth\",\n",
    "               description=\"Overland flow depth\")\n",
    "\n",
    "# Register the time series\n",
    "maps = gs.list_strings(type=\"raster\", pattern=\"depth_mask*\")\n",
    "gs.run_command(\"t.register\", input=\"depth_mask\", maps=maps)\n",
    "flow_map = gj.TimeSeriesMap()\n",
    "flow_map.add_raster_series(\"depth_mask\")\n",
    "flow_map.show()\n",
    "```\n",
    "</details>"
   ]
  },
  {
   "cell_type": "markdown",
   "metadata": {
    "id": "s4bA75hc_jfA"
   },
   "source": [
    "Remove the mask and reset the computational region to the original region."
   ]
  },
  {
   "cell_type": "code",
   "execution_count": null,
   "metadata": {
    "id": "8ZXsJezaRUqJ"
   },
   "outputs": [],
   "source": [
    "# Remove mask\n",
    "gs.run_command(\"r.mask\", flags=\"r\")\n",
    "# Re-set region\n",
    "gs.run_command(\"g.region\", vector=\"lagoons\", res=10, flags=\"a\")"
   ]
  }
 ],
 "metadata": {
  "colab": {
   "provenance": []
  },
  "kernelspec": {
   "display_name": "CSDMS",
   "language": "python",
   "name": "csdms"
  },
  "language_info": {
   "codemirror_mode": {
    "name": "ipython",
    "version": 3
   },
   "file_extension": ".py",
   "mimetype": "text/x-python",
   "name": "python",
   "nbconvert_exporter": "python",
   "pygments_lexer": "ipython3",
   "version": "3.12.7"
  }
 },
 "nbformat": 4,
 "nbformat_minor": 4
}
