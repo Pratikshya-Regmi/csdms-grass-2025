{
 "cells": [
  {
   "cell_type": "markdown",
   "metadata": {
    "id": "yzcNNv6CO0v3"
   },
   "source": [
    "# Case Study: Swine lagoons\n",
    "\n",
    "***Caitlin Haedrich, Pratikshya Regmi, Anna Petrasova and Helena Mitasova***\n",
    "\n",
    "*Center for Geospatial Analytics at NC State University*\n",
    "\n",
    "North Carolina is one of the top pork producing states in the US, surpassed only by Minnesota and Iowa. The large industry in North Carolina consists of hundreds of large-scale farms raise pigs, processing facilities, trucks that transport the animals and fields that grow the grains for feed. Raising over 8 million pigs in a concentrated area creates one big issue: waste.\n",
    "\n",
    "<img src=\"https://raw.githubusercontent.com/chaedri/chaedri.github.io/refs/heads/master/images/CAFOs.png\" />\n",
    "\n",
    "The waste is typically stored in large retention ponds referred to as *lagoons*. The waste anaerobically digests and then is spread on the nearby fields as fertilizer. However, during catastorphic flooding events such as [Hurricane Florence in 2018](https://www.npr.org/2018/09/22/650698240/hurricane-s-aftermath-floods-hog-lagoons-in-north-carolina), the flood waters can overtop the sides of the lagoon introducing the waste to the surrounding environment.\n",
    "\n",
    "<img src=\"https://modernfarmer.com/wp-content/uploads/2022/02/16442235689_6f9667cc05_k-768x489.jpg\" />\n",
    "\n",
    "\n",
    "Part of the Cape Fear Watershed, Stocking Head Creek flows through a heavily agricultural area and has some of the highest densities of swine farms in the country. We'll compute where the swine waste would flow in the case of a storage lagoon leak and how much the creek would need to flood in order to innundate the lagoon and introduce the waste matter to the environment.\n",
    "\n",
    "Let's use the lagoon locations and DEM to answer 4 questions:\n",
    "\n",
    "[1. If the lagoons overflowed, what path would the waste travel to the nearest waterway?](#drain)\n",
    "\n",
    "[2. If the stream water level rose 1 meter, would any of the lagoons be breached?](#hand)\n",
    "\n",
    "[3. What is the upstream contributing area for a hypothetical sample point?](#upstream)\n",
    "\n",
    "[4. What are the overland flow dynamics during a heavy rainstorm in the upstream contributing area?](#simwe)"
   ]
  },
  {
   "cell_type": "markdown",
   "metadata": {
    "tags": []
   },
   "source": [
    "***\n",
    "\n",
    "## Imports and Start GRASS"
   ]
  },
  {
   "cell_type": "markdown",
   "metadata": {},
   "source": [
    "Import the Python standard libraries we need."
   ]
  },
  {
   "cell_type": "code",
   "execution_count": null,
   "metadata": {},
   "outputs": [],
   "source": [
    "import subprocess\n",
    "import sys\n",
    "from pathlib import Path\n",
    "\n",
    "sys.path.append(\n",
    "    subprocess.check_output([\"grass\", \"--config\", \"python_path\"], text=True).strip()\n",
    ")\n",
    "\n",
    "# Import the GRASS GIS packages we need.\n",
    "import grass.script as gs\n",
    "import grass.jupyter as gj"
   ]
  },
  {
   "cell_type": "code",
   "execution_count": null,
   "metadata": {},
   "outputs": [],
   "source": [
    "gj.init(\"./csdms-grass-2025/PERMANENT\");"
   ]
  },
  {
   "cell_type": "code",
   "execution_count": null,
   "metadata": {
    "tags": []
   },
   "outputs": [],
   "source": [
    "!g.list type=all"
   ]
  },
  {
   "cell_type": "code",
   "execution_count": null,
   "metadata": {},
   "outputs": [],
   "source": [
    "!g.region -p"
   ]
  },
  {
   "cell_type": "markdown",
   "metadata": {
    "id": "WJl38-WtLcEs"
   },
   "source": [
    "<a name=\"drain\"></a>\n",
    "\n",
    "***\n",
    "\n",
    "## __Question 1:__ *If the lagoons overflowed or were breached, what path would the waste travel to the nearest waterway?*\n",
    "\n",
    "(This does happen and has serious consequences:  [news article](https://www.newsobserver.com/news/state/north-carolina/article264779224.html)).\n",
    "\n",
    "The [r.watershed](https://grass.osgeo.org/grass-devel/manuals/r.watershed.html) tool is a popular and powerful tool for hydrology. Check out all of the outputs it can compute in the [manual page](https://grass.osgeo.org/grass-devel/manuals/r.watershed.html). Here we'll use it to compute the flow accumulation (how many cells are upstream of a given cell) and drainage direction (what direction a particle would flow from each cell). By default the tool uses multiple flow direction algorithm, which works better on a flat landscape. We don't need to fill sinks, because r.watershed uses least-cost path approach for routing through depressions. Then, we'll use [r.path](https://grass.osgeo.org/grass-devel/manuals/r.path.html) to trace the route of the waste being transported downhill from the lagoon."
   ]
  },
  {
   "cell_type": "code",
   "execution_count": null,
   "metadata": {
    "id": "BzDFxoIg9CDQ"
   },
   "outputs": [],
   "source": [
    "gs.run_command(\"r.watershed\", elevation=\"elevation\", accumulation=\"accumulation\", drainage=\"drainage\")"
   ]
  },
  {
   "cell_type": "code",
   "execution_count": null,
   "metadata": {
    "id": "4bX0AJflzjCj"
   },
   "outputs": [],
   "source": [
    "map = gj.InteractiveMap()\n",
    "map.add_raster(\"accumulation\", opacity=0.5)\n",
    "map.show()"
   ]
  },
  {
   "cell_type": "code",
   "execution_count": null,
   "metadata": {
    "id": "RfcdrnlELxbT"
   },
   "outputs": [],
   "source": [
    "gs.run_command(\"r.path\", input=\"drainage\", vector_path=\"drain\", start_points=\"lagoon_points\")"
   ]
  },
  {
   "cell_type": "markdown",
   "metadata": {
    "id": "tvNyxtLa2Lw_"
   },
   "source": [
    "Let's see what is the landcover the water from lagoons would flow through:"
   ]
  },
  {
   "cell_type": "code",
   "execution_count": null,
   "metadata": {
    "id": "o8f4tlIWGo4t"
   },
   "outputs": [],
   "source": [
    "map = gj.Map()\n",
    "map.d_shade(color=\"ortho\", shade=\"relief\", brighten=50)\n",
    "map.d_vect(map=\"drain\", width=1, color=\"blue\")\n",
    "map.show()"
   ]
  },
  {
   "cell_type": "markdown",
   "metadata": {
    "id": "UYwyog18L1OX"
   },
   "source": [
    "<a name=\"hand\"></a>\n",
    "\n",
    "***\n",
    "\n",
    "## __Question 2:__ *If the stream water level rose 1 meter, would any of the lagoon be breached?*\n",
    "\n",
    "To answer this question, we'll use the HAND (height above nearest drainage) method to model the flood [(Nobre et al., 2011)](https://www.sciencedirect.com/science/article/pii/S0022169411002599).\n",
    "\n",
    "First, we'll add the two extensions we need for this workflow."
   ]
  },
  {
   "cell_type": "code",
   "execution_count": null,
   "metadata": {
    "id": "oINy4SvJBoOc"
   },
   "outputs": [],
   "source": [
    "gs.run_command(\"g.extension\", extension=\"r.hand\")"
   ]
  },
  {
   "cell_type": "markdown",
   "metadata": {
    "id": "MGpibgYzPl-F"
   },
   "source": [
    "To create a timeseries of the innundation, we can use the t flag."
   ]
  },
  {
   "cell_type": "code",
   "execution_count": null,
   "metadata": {
    "id": "9TKSC_BpHIoq"
   },
   "outputs": [],
   "source": [
    "gs.run_command(\"r.hand\",\n",
    "               flags=\"t\",\n",
    "               elevation=\"elevation\",\n",
    "               hand=\"hand\",\n",
    "               inundation_strds=\"inundation\"\n",
    "               start_water_level=0,\n",
    "               end_water_level=5,\n",
    "               water_level_step=1\n",
    "              )\n"
   ]
  },
  {
   "cell_type": "code",
   "execution_count": null,
   "metadata": {
    "id": "mcWpg2pIHqgU"
   },
   "outputs": [],
   "source": [
    "map = gj.TimeSeriesMap()\n",
    "map.d_rast(map=\"relief\")\n",
    "map.d_vect(map=\"lagoons\", fill_color=\"none\")\n",
    "map.add_raster_series(\"inundation\")\n",
    "map.show()"
   ]
  },
  {
   "cell_type": "markdown",
   "metadata": {
    "id": "a_Ly3Gt8QAKv"
   },
   "source": [
    "It looks like one lagoon would be breached and a few more are very close to flooding."
   ]
  },
  {
   "cell_type": "markdown",
   "metadata": {
    "id": "YwCOUrkYP_3F"
   },
   "source": [
    "<a name=\"upstream\"></a>\n",
    "\n",
    "***\n",
    "\n",
    "## __Question 3:__ *What is the upstream contributing area for a hypothetical sample point?*\n",
    "\n",
    "To do this, we will extract a coordinate from a section of stream and then use [r.water.outlet](https://grass.osgeo.org/grass-devel/manuals/r.water.outlet.html) with the drainage direction raster to compute the upstream contribute area."
   ]
  },
  {
   "cell_type": "code",
   "execution_count": null,
   "metadata": {
    "id": "yaNfYmDd6dVV"
   },
   "outputs": [],
   "source": [
    "gs.run_command(\"v.extract\", input=\"streams\", output=\"stream_points\", type=\"point\", where=\"x IS NOT NULL\")"
   ]
  },
  {
   "cell_type": "code",
   "execution_count": null,
   "metadata": {
    "id": "wwtTUJQ7J76K"
   },
   "outputs": [],
   "source": [
    "map = gj.Map()\n",
    "map.d_rast(map=\"relief\")\n",
    "map.d_vect(map=\"streams\", color=\"blue\")\n",
    "map.d_vect(map=\"stream_points\", display=\"cat\", label_color=\"white\", label_size=10)\n",
    "map.show()"
   ]
  },
  {
   "cell_type": "markdown",
   "metadata": {
    "id": "xEIQ_rY8UlCj"
   },
   "source": [
    "Let's use point with category 15. Vector attributes are stored in a SQL database inside the project. We use [v.to.db](https://grass.osgeo.org/grass-devel/manuals/v.to.db.html) to add the feature coordinates to the attribute table, then [v.db.select](https://grass.osgeo.org/grass-devel/manuals/v.db.select.html) to select the category and coordinates and show them as a Pandas dataframe."
   ]
  },
  {
   "cell_type": "code",
   "execution_count": null,
   "metadata": {
    "id": "eZTlF9xPKh3G"
   },
   "outputs": [],
   "source": [
    "import pandas as pd\n",
    "\n",
    "gs.run_command(\"v.to.db\", map=\"stream_points\", option=\"coor\", type=\"point\", columns=\"x,y\")\n",
    "df = pd.DataFrame(gs.parse_command(\"v.db.select\", map=\"stream_points\", columns=\"cat,x,y\", format=\"json\")[\"records\"])\n",
    "df"
   ]
  },
  {
   "cell_type": "code",
   "execution_count": null,
   "metadata": {
    "id": "QqHPwm7UOGd9"
   },
   "outputs": [],
   "source": [
    "[df.loc[8, 'x'], df.loc[8, 'y']]"
   ]
  },
  {
   "cell_type": "markdown",
   "metadata": {
    "id": "9PjCnOm2WYhY"
   },
   "source": [
    "Finally, use [r.water.outlet](https://grass.osgeo.org/grass-devel/manuals/r.water.outlet.html) to compute the upstream contributing area."
   ]
  },
  {
   "cell_type": "code",
   "execution_count": null,
   "metadata": {
    "id": "jTWuz1k3Nnbp"
   },
   "outputs": [],
   "source": [
    "gs.run_command(\"r.water.outlet\", input=\"direction\", output=\"basin_15\", coordinates=[df.loc[8, 'x'], df.loc[8, 'y']])\n",
    "map = gj.Map()\n",
    "map.d_shade(color=\"basin_15\", shade=\"relief\", brighten=50)\n",
    "map.show()"
   ]
  },
  {
   "cell_type": "markdown",
   "metadata": {},
   "source": [
    "TODO: add viewshed here from the coordinates so we can use it on TL"
   ]
  },
  {
   "cell_type": "markdown",
   "metadata": {
    "id": "_FOek5lNQ9Yc"
   },
   "source": [
    "<a name=\"simwe\"></a>\n",
    "\n",
    "***\n",
    "\n",
    "## __Question 4:__ *What are the overland flow dynamics during a heavy rainstorm in basin 15?*\n",
    "\n",
    "We're going to use [r.sim.water](https://grass.osgeo.org/grass-devel/manuals/r.sim.water.html) to model overland flow. The `r.sim.water` tool is the GRASS implementation of the SIMWE model ([Mitas and Mitasova, 1998](https://agupubs.onlinelibrary.wiley.com/doi/abs/10.1029/97WR03347)), a monte carlo path-tracing approach to solving the St. Venant equations for overland flow.\n",
    "\n",
    "First, let's set the computational region to the extent of `basin_15` and a lower resolution (6 meters instead of 3) for faster compute times."
   ]
  },
  {
   "cell_type": "code",
   "execution_count": null,
   "metadata": {
    "id": "hVcFCioMWo92"
   },
   "outputs": [],
   "source": [
    "gs.run_command(\"g.region\", zoom=\"basin_13\", res=6)"
   ]
  },
  {
   "cell_type": "markdown",
   "metadata": {
    "id": "zmdqK0kNYw-Z"
   },
   "source": [
    "Apply a mask over the areas outside `basin_15`. Now, only areas inside `basin 15` will be displayed or used in any computation. Unlike computational region, [r.mask](https://grass.osgeo.org/grass-devel/manuals/r.mask.html) can have boundaries that are not rectangular."
   ]
  },
  {
   "cell_type": "code",
   "execution_count": null,
   "metadata": {
    "id": "T4gsRwUSbVE4"
   },
   "outputs": [],
   "source": [
    "gs.run_command(\"r.mask\", raster=\"basin_15\")"
   ]
  },
  {
   "cell_type": "markdown",
   "metadata": {
    "id": "vIhwP1GsYbw1"
   },
   "source": [
    "Run `r.sim.water` after computing the x and y direction derivatives. We'll run a 30-minute rainstorm using the default rainfall rate of 50 mm/hr. The output will be a series a map showing water depth at each minute."
   ]
  },
  {
   "cell_type": "code",
   "execution_count": null,
   "metadata": {
    "id": "5QmX349oGuDo"
   },
   "outputs": [],
   "source": [
    "gs.run_command('r.slope.aspect', elevation=\"elevation\", dx=\"dx\", dy=\"dy\")\n",
    "gs.run_command('r.sim.water', elevation=\"elevation\", dx=\"dx\", dy=\"dy\", depth=\"depth\", flags=\"t\", niterations=30)"
   ]
  },
  {
   "cell_type": "markdown",
   "metadata": {
    "id": "nVYVnHl8ZDgd"
   },
   "source": [
    "Finally, we'll create a temporal dataset and register the output depth maps. GRASS has [a library of tools](https://grass.osgeo.org/grass-devel/manuals/temporalintro.html) for temporal analyses but here, we will just create an animation of the timeseries."
   ]
  },
  {
   "cell_type": "code",
   "execution_count": null,
   "metadata": {
    "id": "W8oNd0fGQILx"
   },
   "outputs": [],
   "source": [
    "# Create a time series\n",
    "gs.run_command(\"t.create\",\n",
    "               output=\"depth\",\n",
    "               temporaltype=\"relative\",\n",
    "               title=\"Overland flow depth\",\n",
    "               description=\"Overland flow depth\")\n",
    "\n",
    "# Register the time series\n",
    "maps = gs.list_strings(type=\"raster\", pattern=\"depth*\")\n",
    "gs.run_command(\"t.register\", input=\"depth\", maps=maps)"
   ]
  },
  {
   "cell_type": "code",
   "execution_count": null,
   "metadata": {
    "id": "5pjxNaw8P-uy"
   },
   "outputs": [],
   "source": [
    "flow_map = gj.TimeSeriesMap()\n",
    "flow_map.add_raster_series(\"depth\")\n",
    "flow_map.show()"
   ]
  },
  {
   "cell_type": "markdown",
   "metadata": {
    "id": "s4bA75hc_jfA"
   },
   "source": [
    "Remove the mask and reset the computational region to the original region."
   ]
  },
  {
   "cell_type": "code",
   "execution_count": null,
   "metadata": {
    "id": "8ZXsJezaRUqJ"
   },
   "outputs": [],
   "source": [
    "# Remove mask\n",
    "gs.run_command(\"r.mask\", flags=\"r\")\n",
    "# Re-set region\n",
    "gs.run_command(\"g.region\", n=131934, s=126825, w=702726, e=708443, res=3, flags=\"a\")"
   ]
  }
 ],
 "metadata": {
  "colab": {
   "provenance": []
  },
  "kernelspec": {
   "display_name": "Python 3 (ipykernel)",
   "language": "python",
   "name": "python3"
  },
  "language_info": {
   "codemirror_mode": {
    "name": "ipython",
    "version": 3
   },
   "file_extension": ".py",
   "mimetype": "text/x-python",
   "name": "python",
   "nbconvert_exporter": "python",
   "pygments_lexer": "ipython3",
   "version": "3.9.9"
  }
 },
 "nbformat": 4,
 "nbformat_minor": 4
}
