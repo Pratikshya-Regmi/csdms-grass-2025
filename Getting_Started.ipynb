{
 "cells": [
  {
   "cell_type": "markdown",
   "metadata": {
    "id": "yzcNNv6CO0v3"
   },
   "source": [
    "# An Introduction to GRASS GIS for Tangible Landscape\n",
    "\n",
    "***Caitlin Haedrich, Pratikshya Regmi, Anna Petrasova and Helena Mitasova***\n",
    "\n",
    "*Center for Geospatial Analytics at NC State University*\n",
    "\n",
    "In this notebook, we will become familiar with the GRASS working environment and toolsets. After setting up a new GRASS project and importing data, we'll look at an example case study in a small watershed in Eastern North Carolina. Part of the Cape Fear Watershed, Stocking Head Creek flows through a heavily agricultural area and has some of the highest densities of swine farms in the country. We'll compute where the swine waste would flow in the case of a storage lagoon leak and how much the creek would need to flood in order to innundate the lagoon and introduce the waste matter to the environment.\n",
    "\n",
    "By the end of this notebook, you will have experience with:\n",
    "\n",
    "* [Creating a new GRASS project](#2.-Create-a-New-Project)\n",
    "* [Importing data](#4.-Import-Data)\n",
    "* [Working with GRASS Tools](#5.-GRASS-GIS-Tools) and [the Python API](#6.-GRASS-Python-API)\n",
    "* [Visualizing data](#7.-Data-Visualization-with-grass.jupyter)\n",
    "* Executing Common hydrology tools for [extracting streams](#streams), [computing flow paths](#drain) and [modeling innundation](#hand) using the Heigh Above Nearest Drainage (HAND) method [(Nobre et al., 2011)](https://www.sciencedirect.com/science/article/pii/S0022169411002599).\n",
    "\n",
    "At the end, we will translate some of the hydrology workflows into a Tangible Landscape activity in the second half of the workshop.\n",
    "\n",
    "Let's dive in!\n"
   ]
  },
  {
   "cell_type": "markdown",
   "metadata": {
    "tags": []
   },
   "source": [
    "***\n",
    "\n",
    "## 1. Import Python Packages"
   ]
  },
  {
   "cell_type": "markdown",
   "metadata": {},
   "source": [
    "Import the Python standard libraries we need."
   ]
  },
  {
   "cell_type": "code",
   "execution_count": null,
   "metadata": {
    "tags": []
   },
   "outputs": [],
   "source": [
    "import subprocess\n",
    "import sys\n",
    "from pathlib import Path"
   ]
  },
  {
   "cell_type": "markdown",
   "metadata": {},
   "source": [
    "We are going to import the GRASS GIS Python API (`grass.script`) and the GRASS GIS Jupyter package (`grass.jupyter`), but first, we'll need to ask `grass` to check it's `--config` to see where the python packages are then add them to the system path before we can import them. This command is slightly different for each operating system.\n",
    "\n",
    "We use `subprocess.check_output` to find the path and `sys.path.append` to add it to the path."
   ]
  },
  {
   "cell_type": "code",
   "execution_count": null,
   "metadata": {
    "tags": []
   },
   "outputs": [],
   "source": [
    "sys.path.append(\n",
    "    subprocess.check_output([\"grass\", \"--config\", \"python_path\"], text=True).strip()\n",
    ")"
   ]
  },
  {
   "cell_type": "markdown",
   "metadata": {},
   "source": [
    "And now we can import the GRASS python packages!"
   ]
  },
  {
   "cell_type": "code",
   "execution_count": null,
   "metadata": {},
   "outputs": [],
   "source": [
    "# Import the GRASS GIS packages we need.\n",
    "import grass.script as gs\n",
    "import grass.jupyter as gj"
   ]
  },
  {
   "cell_type": "markdown",
   "metadata": {},
   "source": [
    "***\n",
    "\n",
    "## 2. Create a New Project"
   ]
  },
  {
   "cell_type": "markdown",
   "metadata": {
    "id": "ahTXAMIHU8Ai"
   },
   "source": [
    "Projects are defined by a Coordinate Reference System (CRS). We can set the CRS from a georeferenced file (such as a Geotiff) or an EPSG string. Here, we use [EPSG 3358](https://epsg.io/3358), a projection for NC in meters."
   ]
  },
  {
   "cell_type": "code",
   "execution_count": null,
   "metadata": {},
   "outputs": [],
   "source": [
    "!grass -e -c EPSG:3358 $HOME/csdms-grass-2025"
   ]
  },
  {
   "cell_type": "code",
   "execution_count": null,
   "metadata": {},
   "outputs": [],
   "source": [
    "# gs.create_project(\"csdms-grass-2025\", epsg=3358, overwrite=True)`"
   ]
  },
  {
   "cell_type": "markdown",
   "metadata": {},
   "source": [
    "We could also create a project from a georeferenced file, such as `lagoons.gpkg` which we will use later in this workshop."
   ]
  },
  {
   "cell_type": "code",
   "execution_count": null,
   "metadata": {},
   "outputs": [],
   "source": [
    "# gs.create_project(\"csdms-grass-2025\", file=lagoons.gpkg, overwrite=True)` #fix"
   ]
  },
  {
   "cell_type": "markdown",
   "metadata": {},
   "source": [
    "***\n",
    "\n",
    "## 3. Start GRASS Session"
   ]
  },
  {
   "cell_type": "code",
   "execution_count": null,
   "metadata": {},
   "outputs": [],
   "source": [
    "gj.init(\"./csdms-grass-2025/PERMANENT\");"
   ]
  },
  {
   "cell_type": "markdown",
   "metadata": {},
   "source": [
    "We've launched GRASS GIS now! We can access GRASS GIS commands using the command line interface (with the `!` line magic):"
   ]
  },
  {
   "cell_type": "code",
   "execution_count": null,
   "metadata": {},
   "outputs": [],
   "source": [
    "!g.version"
   ]
  },
  {
   "cell_type": "code",
   "execution_count": null,
   "metadata": {
    "tags": []
   },
   "outputs": [],
   "source": [
    "!g.list type=all"
   ]
  },
  {
   "cell_type": "code",
   "execution_count": null,
   "metadata": {},
   "outputs": [],
   "source": [
    "!g.region -p"
   ]
  },
  {
   "cell_type": "markdown",
   "metadata": {
    "id": "QVmEbseosaRW"
   },
   "source": [
    "\n",
    "\n",
    "---\n",
    "\n",
    "\n",
    "<a name=\"import\"></a>\n",
    "## 4. Import Data"
   ]
  },
  {
   "cell_type": "code",
   "execution_count": null,
   "metadata": {},
   "outputs": [],
   "source": [
    "!v.import input=\"./lagoons.gpkg\" output=\"lagoons\""
   ]
  },
  {
   "cell_type": "code",
   "execution_count": null,
   "metadata": {
    "id": "K-4bge_puKPU"
   },
   "outputs": [],
   "source": [
    "!g.region -a vector=\"lagoons\" res=10"
   ]
  },
  {
   "cell_type": "code",
   "execution_count": null,
   "metadata": {},
   "outputs": [],
   "source": [
    "!g.region grow=200"
   ]
  },
  {
   "cell_type": "markdown",
   "metadata": {
    "id": "H_amRA23s_Dx"
   },
   "source": [
    "We're going to import a digital elevation model (DEM), we will use a GRASS addon [r.in.usgs](https://grass.osgeo.org/grass-devel/manuals/addons/r.in.usgs.html), which uses [TNM Access](https://apps.nationalmap.gov/tnmaccess/) REST API to access USGS data. First install the addon:"
   ]
  },
  {
   "cell_type": "code",
   "execution_count": null,
   "metadata": {
    "id": "9zMj8uc-o1Jv"
   },
   "outputs": [],
   "source": [
    "!g.extension r.in.usgs"
   ]
  },
  {
   "cell_type": "markdown",
   "metadata": {
    "id": "rNcMtpKTs93d"
   },
   "source": [
    "Download and reproject a 1/9 arc-second DEM (approx 3-m resolution):"
   ]
  },
  {
   "cell_type": "code",
   "execution_count": null,
   "metadata": {
    "id": "OOQg4YXZ14Nu"
   },
   "outputs": [],
   "source": [
    "!r.in.usgs product=\"ned\" ned_dataset=\"ned19sec\" output_name=\"elevation\" --verbose"
   ]
  },
  {
   "cell_type": "markdown",
   "metadata": {
    "id": "FFhnjlFcpJTR"
   },
   "source": [
    "<details>\n",
    "\n",
    "<summary>Alternative Import Method</summary>\n",
    "\n",
    "### Download with wget and import with `r.import`\n",
    "\n",
    "First, download and unzip with bash.\n",
    "\n",
    "```bash\n",
    "%%bash\n",
    "wget https://prd-tnm.s3.amazonaws.com/StagedProducts/Elevation/19/IMG/ned19_n35x00_w078x00_nc_statewide_2003.zip\n",
    "unzip ned19_n35x00_w078x00_nc_statewide_2003.zip\n",
    "```\n",
    "\n",
    "We'll import our elevation model using [`r.import`](https://grass.osgeo.org/grass-devel/manuals/r.import.html) and create a raster layer called \"elevation\". The `r.import` tool will reproject the data to the project CRS (thereby avoiding any future CRS mismatches - nice!). We also set it to only import the area within the computational region and to resample it using bilinear interpolation to the resolution of the computational region.\n",
    "\n",
    "```bash\n",
    "!r.import input=\"ned19_n35x00_w078x00_nc_statewide_2003.img\" output=\"elevation\" resample=\"bilinear\" extent=\"region\"\n",
    "```\n",
    "\n",
    "</details>"
   ]
  },
  {
   "cell_type": "code",
   "execution_count": null,
   "metadata": {},
   "outputs": [],
   "source": [
    "!r.in.wms url=\"https://imagery.nationalmap.gov/arcgis/services/USGSNAIPPlus/ImageServer/WMSServer\" out=\"ortho\" layer=\"USGSNAIPPlus\""
   ]
  },
  {
   "cell_type": "code",
   "execution_count": null,
   "metadata": {},
   "outputs": [],
   "source": [
    "!g.list type=all"
   ]
  },
  {
   "cell_type": "markdown",
   "metadata": {},
   "source": [
    "***\n",
    "\n",
    "## 5. GRASS GIS Tools"
   ]
  },
  {
   "cell_type": "markdown",
   "metadata": {},
   "source": [
    "GRASS functionality is available through tools (also called modules). There are over 500 different tools in the core distribution and over 300 addon tools or extensions that can be used to prepare and analyze data.\n",
    "\n",
    "Tools respect the following naming conventions:\n",
    "\n",
    "Prefix | Function | Example\n",
    "------ | -------- | -------\n",
    "r.* | raster processing | r.mapcalc: map algebra\n",
    "v.*\t| vector processing\t| v.clean: topological cleaning\n",
    "i.*\t| imagery processing | i.segment: object recognition\n",
    "db.* | database management | db.select: select values from table\n",
    "r3.* | 3D raster processing | r3.stats: 3D raster statistics\n",
    "t.* | temporal data processing | t.rast.aggregate: temporal aggregation\n",
    "g.* | general data management | g.rename: renames map\n",
    "d.* | display | d.rast: display raster map\n",
    "\n",
    "Note also that some tools have multiple dots in their names. For example, tools staring with v.net.* deal with vector network analysis and r.in.* tools import raster data into GRASS GIS spatial database.\n",
    "\n",
    "Check out the _brand new_ [manual page](https://grass.osgeo.org/grass-devel/manuals/full_index.html) to browse tools.\n",
    "\n",
    "There is also a tool for finding other tools:"
   ]
  },
  {
   "cell_type": "code",
   "execution_count": null,
   "metadata": {},
   "outputs": [],
   "source": [
    "!g.search.modules keyword=zonal"
   ]
  },
  {
   "cell_type": "markdown",
   "metadata": {},
   "source": [
    "Here is how to get all options and flags of a GRASS tool through command line:"
   ]
  },
  {
   "cell_type": "code",
   "execution_count": null,
   "metadata": {},
   "outputs": [],
   "source": [
    "!r.univar --help"
   ]
  },
  {
   "cell_type": "markdown",
   "metadata": {},
   "source": [
    "***\n",
    "\n",
    "## 6. GRASS Python API"
   ]
  },
  {
   "cell_type": "markdown",
   "metadata": {},
   "source": [
    "There are two Python APIs for accessing GRASS GIS tools' functionality - [GRASS GIS Python Scripting Library](https://grass.osgeo.org/grass-stable/manuals/libpython/script_intro.html) and [PyGRASS](https://grass.osgeo.org/grass-stable/manuals/libpython/pygrass_index.html).\n",
    "PyGRASS is advantageous for more advanced workflows and low level tasks. Here, we will be using the Python Scripting Library (`import grass.script as gs`)\n",
    "as it is simpler and more straightforward to use.\n",
    " \n",
    "\n",
    "The GRASS GIS Python Scripting Library provides functions to call GRASS tools within scripts as subprocesses. The most often used functions include:\n",
    "\n",
    " * [run_command()](https://grass.osgeo.org/grass-stable/manuals/libpython/script.html#script.core.run_command): used with modules which output raster/vector data where text output is not expected\n",
    " * [read_command()](https://grass.osgeo.org/grass-stable/manuals/libpython/script.html#script.core.read_command): used when we are interested in text output\n",
    " * [parse_command()](https://grass.osgeo.org/grass-stable/manuals/libpython/script.html#script.core.parse_command): used with modules producing text output as key=value pair\n",
    " * [write_command()](https://grass.osgeo.org/grass-stable/manuals/libpython/script.html#script.core.write_command): for modules expecting text input from either standard input or file"
   ]
  },
  {
   "cell_type": "markdown",
   "metadata": {},
   "source": [
    "Here's an example of the Python API in action:"
   ]
  },
  {
   "cell_type": "code",
   "execution_count": null,
   "metadata": {},
   "outputs": [],
   "source": [
    "gs.run_command(\"g.list\", type=\"raster\")"
   ]
  },
  {
   "cell_type": "markdown",
   "metadata": {},
   "source": [
    "**Try it yourself!**\n",
    "\n",
    "_The `r.info map=elevation` command will print information about the elevation raster. Execute `r.info` in using the Python API._"
   ]
  },
  {
   "cell_type": "code",
   "execution_count": null,
   "metadata": {},
   "outputs": [],
   "source": []
  },
  {
   "cell_type": "markdown",
   "metadata": {},
   "source": [
    "<details>\n",
    "    <summary>👉 <b>click to see solution</b></summary>\n",
    "    \n",
    "```python\n",
    "gs.read_command(\"r.info\", map=\"elevation\")\n",
    "```\n",
    "</details>"
   ]
  },
  {
   "cell_type": "markdown",
   "metadata": {},
   "source": [
    "The Python API also provides several wrapper functions for often called modules. The list of convenient wrapper functions with examples includes:\n",
    "\n",
    " * Raster metadata using [raster_info()](https://grass.osgeo.org/grass-stable/manuals/libpython/script.html#script.raster.raster_info): `gs.raster_info('dsm')`\n",
    " * Vector metadata using [vector_info()](https://grass.osgeo.org/grass-stable/manuals/libpython/script.html#script.vector.vector_info): `gs.vector_info('roads')`\n",
    " * List raster data in current location using [list_grouped()](https://grass.osgeo.org/grass-stable/manuals/libpython/script.html#script.core.list_grouped): `gs.list_grouped(type=['raster'])`\n",
    " * Get current computational region using [region()](https://grass.osgeo.org/grass-stable/manuals/libpython/script.html#script.core.region): `gs.region()`\n",
    " * Run raster algebra using [mapcalc()](https://grass.osgeo.org/grass-stable/manuals/libpython/script.html#script.raster.mapcalc): `gs.mapcalc()`"
   ]
  },
  {
   "cell_type": "markdown",
   "metadata": {},
   "source": [
    "_Try using `gs.vector_info` to print information about the \"lagoons\" vector layer._"
   ]
  },
  {
   "cell_type": "code",
   "execution_count": null,
   "metadata": {},
   "outputs": [],
   "source": []
  },
  {
   "cell_type": "markdown",
   "metadata": {},
   "source": [
    "<details>\n",
    "    <summary>👉 <b>click to see solution</b></summary>\n",
    "    \n",
    "```python\n",
    "gs.vector_info(\"lagoons\")\n",
    "```\n",
    "</details>"
   ]
  },
  {
   "cell_type": "markdown",
   "metadata": {
    "tags": []
   },
   "source": [
    "***\n",
    "\n",
    "## 7. Data Visualization with `grass.jupyter`\n",
    "\n",
    "`grass.jupyter.Map()` creates and displays GRASS maps as PNG images. `gj.Map()` accepts any GRASS display module as a method by replacing the \".\" with \"\\_\" in the module name. For example:"
   ]
  },
  {
   "cell_type": "code",
   "execution_count": null,
   "metadata": {},
   "outputs": [],
   "source": [
    "example = gj.Map()\n",
    "example.d_rast(map=\"ortho\") # d.rast map=ortho\n",
    "example.d_barscale(bgcolor=\"none\") # d.barscale\n",
    "example.show()"
   ]
  },
  {
   "cell_type": "markdown",
   "metadata": {},
   "source": [
    "To display the image, we call the `show()` method. You can also save the image with the `save()` method.\n",
    "\n",
    "`grass.jupyter.InteractiveMap()` creates leaflet maps that are interactive. They can also be saved as html with the `save()` method and embedded on a website or shared."
   ]
  },
  {
   "cell_type": "code",
   "execution_count": null,
   "metadata": {
    "id": "4bX0AJflzjCj"
   },
   "outputs": [],
   "source": [
    "map = gj.InteractiveMap()\n",
    "map.add_raster(\"elevation\", opacity=0.7)\n",
    "map.add_vector(\"lagoons\")\n",
    "map.show()"
   ]
  },
  {
   "cell_type": "markdown",
   "metadata": {
    "id": "HtryWA9St0wx"
   },
   "source": [
    "\n",
    "---\n",
    "\n",
    "## 8. Case Study: Swine lagoons\n",
    "\n",
    "North Carolina is one of the top pork producing states in the US, surpassed only by Minnesota and Iowa. The large industry in North Carolina consists of hundreds of large-scale farms raise pigs, processing facilities, trucks that transport the animals and fields that grow the grains for feed. Raising over 8 million pigs in a concentrated area creates one big issue: waste.\n",
    "\n",
    "<img src=\"https://raw.githubusercontent.com/chaedri/chaedri.github.io/refs/heads/master/images/CAFOs.png\" />\n",
    "\n",
    "The waste is typically stored in large retention ponds referred to as *lagoons*. The waste anaerobically digests and then is spread on the nearby fields as fertilizer. However, during catastorphic flooding events such as [Hurricane Florence in 2018](https://www.npr.org/2018/09/22/650698240/hurricane-s-aftermath-floods-hog-lagoons-in-north-carolina), the flood waters can overtop the sides of the lagoon introducing the waste to the surrounding environment.\n",
    "\n",
    "<img src=\"https://modernfarmer.com/wp-content/uploads/2022/02/16442235689_6f9667cc05_k-768x489.jpg\" />"
   ]
  },
  {
   "cell_type": "markdown",
   "metadata": {
    "id": "b0mn8kLvu48W"
   },
   "source": [
    "### Lagoon Flood Risk\n",
    "\n",
    "Let's use the lagoon locations and DEM to answer 4 questions:\n",
    "1. If the lagoons overflowed, what path would the waste travel to the nearest waterway?\n",
    "2. If the stream water level rose 1 meter, would any of the lagoons be breached?\n",
    "3. What is the upstream contributing area for a hypothetical sample point?\n",
    "4. What are the overland flow dynamics during a heavy rainstorm in the upstream contributing area?"
   ]
  },
  {
   "cell_type": "markdown",
   "metadata": {
    "id": "WJl38-WtLcEs"
   },
   "source": [
    "<a name=\"drain\"></a>\n",
    "__Question 1:__ *If the lagoons overflowed or were breached, what path would the waste travel to the nearest waterway?*\n",
    "\n",
    "(This does happen and has serious consequences:  [news article](https://www.newsobserver.com/news/state/north-carolina/article264779224.html)).\n",
    "\n",
    "The [r.watershed](https://grass.osgeo.org/grass-devel/manuals/r.watershed.html) tool is a popular and powerful tool for hydrology. Check out all of the outputs it can compute in the [manual page](https://grass.osgeo.org/grass-devel/manuals/r.watershed.html). Here we'll use it to compute the flow accumulation (how many cells are upstream of a given cell) and drainage direction (what direction a particle would flow from each cell). By default the tool uses multiple flow direction algorithm, which works better on a flat landscape. We don't need to fill sinks, because r.watershed uses least-cost path approach for routing through depressions. Then, we'll use [r.path](https://grass.osgeo.org/grass-devel/manuals/r.path.html) to trace the route of the waste being transported downhill from the lagoon."
   ]
  },
  {
   "cell_type": "code",
   "execution_count": null,
   "metadata": {
    "id": "BzDFxoIg9CDQ"
   },
   "outputs": [],
   "source": [
    "gs.run_command(\"r.watershed\", elevation=\"elevation\", accumulation=\"accumulation\", drainage=\"drainage\")"
   ]
  },
  {
   "cell_type": "code",
   "execution_count": null,
   "metadata": {
    "id": "4bX0AJflzjCj"
   },
   "outputs": [],
   "source": [
    "map = gj.InteractiveMap()\n",
    "map.add_raster(\"accumulation\", opacity=0.5)\n",
    "map.show()"
   ]
  },
  {
   "cell_type": "code",
   "execution_count": null,
   "metadata": {
    "id": "RfcdrnlELxbT"
   },
   "outputs": [],
   "source": [
    "gs.run_command(\"r.path\", input=\"drainage\", vector_path=\"drain\", start_points=\"lagoon_points\")"
   ]
  },
  {
   "cell_type": "markdown",
   "metadata": {
    "id": "tvNyxtLa2Lw_"
   },
   "source": [
    "Let's see what is the landcover the water from lagoons would flow through:"
   ]
  },
  {
   "cell_type": "code",
   "execution_count": null,
   "metadata": {
    "id": "o8f4tlIWGo4t"
   },
   "outputs": [],
   "source": [
    "map = gj.Map()\n",
    "map.d_shade(color=\"ortho\", shade=\"relief\", brighten=50)\n",
    "map.d_vect(map=\"drain\", width=1, color=\"blue\")\n",
    "map.show()"
   ]
  },
  {
   "cell_type": "markdown",
   "metadata": {
    "id": "UYwyog18L1OX"
   },
   "source": [
    "<a name=\"hand\"></a>\n",
    "__Question 2:__ *If the stream water level rose 1 meter, would any of the lagoon be breached?*\n",
    "\n",
    "To answer this question, we'll use the HAND (height above nearest drainage) method to model the flood [(Nobre et al., 2011)](https://www.sciencedirect.com/science/article/pii/S0022169411002599).\n",
    "\n",
    "First, we'll add the two extensions we need for this workflow."
   ]
  },
  {
   "cell_type": "code",
   "execution_count": null,
   "metadata": {
    "id": "oINy4SvJBoOc"
   },
   "outputs": [],
   "source": [
    "gs.run_command(\"g.extension\", extension=\"r.hand\")"
   ]
  },
  {
   "cell_type": "markdown",
   "metadata": {
    "id": "MGpibgYzPl-F"
   },
   "source": [
    "To create a timeseries of the innundation, we can use the t flag."
   ]
  },
  {
   "cell_type": "code",
   "execution_count": null,
   "metadata": {
    "id": "9TKSC_BpHIoq"
   },
   "outputs": [],
   "source": [
    "gs.run_command(\"r.hand\",\n",
    "               flags=\"t\",\n",
    "               elevation=\"elevation\",\n",
    "               hand=\"hand\",\n",
    "               inundation_strds=\"inundation\"\n",
    "               start_water_level=0,\n",
    "               end_water_level=5,\n",
    "               water_level_step=1\n",
    "              )\n"
   ]
  },
  {
   "cell_type": "code",
   "execution_count": null,
   "metadata": {
    "id": "mcWpg2pIHqgU"
   },
   "outputs": [],
   "source": [
    "map = gj.TimeSeriesMap()\n",
    "map.d_rast(map=\"relief\")\n",
    "map.d_vect(map=\"lagoons\", fill_color=\"none\")\n",
    "map.add_raster_series(\"inundation\")\n",
    "map.show()"
   ]
  },
  {
   "cell_type": "markdown",
   "metadata": {
    "id": "a_Ly3Gt8QAKv"
   },
   "source": [
    "It looks like one lagoon would be breached and a few more are very close to flooding."
   ]
  },
  {
   "cell_type": "markdown",
   "metadata": {
    "id": "YwCOUrkYP_3F"
   },
   "source": [
    "__Question 3:__ *What is the upstream contributing area for a hypothetical sample point?*\n",
    "\n",
    "To do this, we will extract a coordinate from a section of stream and then use [r.water.outlet](https://grass.osgeo.org/grass-devel/manuals/r.water.outlet.html) with the drainage direction raster to compute the upstream contribute area."
   ]
  },
  {
   "cell_type": "code",
   "execution_count": null,
   "metadata": {
    "id": "yaNfYmDd6dVV"
   },
   "outputs": [],
   "source": [
    "gs.run_command(\"v.extract\", input=\"streams\", output=\"stream_points\", type=\"point\", where=\"x IS NOT NULL\")"
   ]
  },
  {
   "cell_type": "code",
   "execution_count": null,
   "metadata": {
    "id": "wwtTUJQ7J76K"
   },
   "outputs": [],
   "source": [
    "map = gj.Map()\n",
    "map.d_rast(map=\"relief\")\n",
    "map.d_vect(map=\"streams\", color=\"blue\")\n",
    "map.d_vect(map=\"stream_points\", display=\"cat\", label_color=\"white\", label_size=10)\n",
    "map.show()"
   ]
  },
  {
   "cell_type": "markdown",
   "metadata": {
    "id": "xEIQ_rY8UlCj"
   },
   "source": [
    "Let's use point with category 15. Vector attributes are stored in a SQL database inside the project. We use [v.to.db](https://grass.osgeo.org/grass-devel/manuals/v.to.db.html) to add the feature coordinates to the attribute table, then [v.db.select](https://grass.osgeo.org/grass-devel/manuals/v.db.select.html) to select the category and coordinates and show them as a Pandas dataframe."
   ]
  },
  {
   "cell_type": "code",
   "execution_count": null,
   "metadata": {
    "id": "eZTlF9xPKh3G"
   },
   "outputs": [],
   "source": [
    "import pandas as pd\n",
    "\n",
    "gs.run_command(\"v.to.db\", map=\"stream_points\", option=\"coor\", type=\"point\", columns=\"x,y\")\n",
    "df = pd.DataFrame(gs.parse_command(\"v.db.select\", map=\"stream_points\", columns=\"cat,x,y\", format=\"json\")[\"records\"])\n",
    "df"
   ]
  },
  {
   "cell_type": "code",
   "execution_count": null,
   "metadata": {
    "id": "QqHPwm7UOGd9"
   },
   "outputs": [],
   "source": [
    "[df.loc[8, 'x'], df.loc[8, 'y']]"
   ]
  },
  {
   "cell_type": "markdown",
   "metadata": {
    "id": "9PjCnOm2WYhY"
   },
   "source": [
    "Finally, use [r.water.outlet](https://grass.osgeo.org/grass-devel/manuals/r.water.outlet.html) to compute the upstream contributing area."
   ]
  },
  {
   "cell_type": "code",
   "execution_count": null,
   "metadata": {
    "id": "jTWuz1k3Nnbp"
   },
   "outputs": [],
   "source": [
    "gs.run_command(\"r.water.outlet\", input=\"direction\", output=\"basin_15\", coordinates=[df.loc[8, 'x'], df.loc[8, 'y']])\n",
    "map = gj.Map()\n",
    "map.d_shade(color=\"basin_15\", shade=\"relief\", brighten=50)\n",
    "map.show()"
   ]
  },
  {
   "cell_type": "markdown",
   "metadata": {},
   "source": [
    "TODO: add viewshed here from the coordinates so we can use it on TL"
   ]
  },
  {
   "cell_type": "markdown",
   "metadata": {
    "id": "_FOek5lNQ9Yc"
   },
   "source": [
    "__Question 4:__ *What are the overland flow dynamics during a heavy rainstorm in basin 15?*\n",
    "\n",
    "We're going to use [r.sim.water](https://grass.osgeo.org/grass-devel/manuals/r.sim.water.html) to model overland flow. The `r.sim.water` tool is the GRASS implementation of the SIMWE model ([Mitas and Mitasova, 1998](https://agupubs.onlinelibrary.wiley.com/doi/abs/10.1029/97WR03347)), a monte carlo path-tracing approach to solving the St. Venant equations for overland flow.\n",
    "\n",
    "First, let's set the computational region to the extent of `basin_15` and a lower resolution (6 meters instead of 3) for faster compute times."
   ]
  },
  {
   "cell_type": "code",
   "execution_count": null,
   "metadata": {
    "id": "hVcFCioMWo92"
   },
   "outputs": [],
   "source": [
    "gs.run_command(\"g.region\", zoom=\"basin_13\", res=6)"
   ]
  },
  {
   "cell_type": "markdown",
   "metadata": {
    "id": "zmdqK0kNYw-Z"
   },
   "source": [
    "Apply a mask over the areas outside `basin_15`. Now, only areas inside `basin 15` will be displayed or used in any computation. Unlike computational region, [r.mask](https://grass.osgeo.org/grass-devel/manuals/r.mask.html) can have boundaries that are not rectangular."
   ]
  },
  {
   "cell_type": "code",
   "execution_count": null,
   "metadata": {
    "id": "T4gsRwUSbVE4"
   },
   "outputs": [],
   "source": [
    "gs.run_command(\"r.mask\", raster=\"basin_15\")"
   ]
  },
  {
   "cell_type": "markdown",
   "metadata": {
    "id": "vIhwP1GsYbw1"
   },
   "source": [
    "Run `r.sim.water` after computing the x and y direction derivatives. We'll run a 30-minute rainstorm using the default rainfall rate of 50 mm/hr. The output will be a series a map showing water depth at each minute."
   ]
  },
  {
   "cell_type": "code",
   "execution_count": null,
   "metadata": {
    "id": "5QmX349oGuDo"
   },
   "outputs": [],
   "source": [
    "gs.run_command('r.slope.aspect', elevation=\"elevation\", dx=\"dx\", dy=\"dy\")\n",
    "gs.run_command('r.sim.water', elevation=\"elevation\", dx=\"dx\", dy=\"dy\", depth=\"depth\", flags=\"t\", niterations=30)"
   ]
  },
  {
   "cell_type": "markdown",
   "metadata": {
    "id": "nVYVnHl8ZDgd"
   },
   "source": [
    "Finally, we'll create a temporal dataset and register the output depth maps. GRASS has [a library of tools](https://grass.osgeo.org/grass-devel/manuals/temporalintro.html) for temporal analyses but here, we will just create an animation of the timeseries."
   ]
  },
  {
   "cell_type": "code",
   "execution_count": null,
   "metadata": {
    "id": "W8oNd0fGQILx"
   },
   "outputs": [],
   "source": [
    "# Create a time series\n",
    "gs.run_command(\"t.create\",\n",
    "               output=\"depth\",\n",
    "               temporaltype=\"relative\",\n",
    "               title=\"Overland flow depth\",\n",
    "               description=\"Overland flow depth\")\n",
    "\n",
    "# Register the time series\n",
    "maps = gs.list_strings(type=\"raster\", pattern=\"depth*\")\n",
    "gs.run_command(\"t.register\", input=\"depth\", maps=maps)"
   ]
  },
  {
   "cell_type": "code",
   "execution_count": null,
   "metadata": {
    "id": "5pjxNaw8P-uy"
   },
   "outputs": [],
   "source": [
    "flow_map = gj.TimeSeriesMap()\n",
    "flow_map.add_raster_series(\"depth\")\n",
    "flow_map.show()"
   ]
  },
  {
   "cell_type": "markdown",
   "metadata": {
    "id": "s4bA75hc_jfA"
   },
   "source": [
    "Remove the mask and reset the computational region to the original region."
   ]
  },
  {
   "cell_type": "code",
   "execution_count": null,
   "metadata": {
    "id": "8ZXsJezaRUqJ"
   },
   "outputs": [],
   "source": [
    "# Remove mask\n",
    "gs.run_command(\"r.mask\", flags=\"r\")\n",
    "# Re-set region\n",
    "gs.run_command(\"g.region\", n=131934, s=126825, w=702726, e=708443, res=3, flags=\"a\")"
   ]
  },
  {
   "cell_type": "markdown",
   "metadata": {
    "id": "ZqZWCOVLjbjV"
   },
   "source": [
    "\n",
    "\n",
    "---\n",
    "\n",
    "\n",
    "\n",
    "## From Notebook Workflow to Executable Script\n",
    "\n",
    "Tangible Landscape uses scripts to execute analyses on the scanned terrain. Here we show some examples of how to structure GRASS Python scripts.\n",
    "\n",
    "The `%%writefile` cell magic takes the content of the cell and writes it to a file. The `%%python` magic will execute the file.\n",
    "Name your file in some unique name, e.g. `yourlastname.py`"
   ]
  },
  {
   "cell_type": "code",
   "execution_count": null,
   "metadata": {
    "id": "nzxQhfeWjZ-r"
   },
   "outputs": [],
   "source": [
    "%%writefile yourlastname.py\n",
    "import grass.script as gs\n",
    "\n",
    "# modify here\n",
    "# change function name\n",
    "def myanalysis(elevation):\n",
    "    \"\"\"Computes profile curvature\"\"\"\n",
    "    gs.run_command(\"r.slope.aspect\", elevation=elevation, pcurvature=\"pcurvature\")\n",
    "\n",
    "if __name__ == \"__main__\":\n",
    "    elevation = \"elevation\"\n",
    "    myanalysis(elevation=elevation)"
   ]
  },
  {
   "cell_type": "markdown",
   "metadata": {
    "id": "6zohRVTaF3Br"
   },
   "source": [
    "Now execute the script:"
   ]
  },
  {
   "cell_type": "code",
   "execution_count": null,
   "metadata": {
    "id": "s8zzliAFso9r"
   },
   "outputs": [],
   "source": [
    "%%python yourlastname.py"
   ]
  },
  {
   "cell_type": "markdown",
   "metadata": {
    "id": "3E4TBKjeF6fG"
   },
   "source": [
    "And visualize the result using the `grass.jupyter` API:"
   ]
  },
  {
   "cell_type": "code",
   "execution_count": null,
   "metadata": {
    "id": "ajp14v-QsozD"
   },
   "outputs": [],
   "source": [
    "map = gj.Map()\n",
    "map.d_rast(map=\"pcurvature\")\n",
    "map.show()"
   ]
  },
  {
   "cell_type": "markdown",
   "metadata": {
    "id": "t-LZoFD9rnJq"
   },
   "source": [
    "Now if your workflow requires a vector points map or coordinates, use this template:"
   ]
  },
  {
   "cell_type": "code",
   "execution_count": null,
   "metadata": {
    "id": "JecIgRptrmaB"
   },
   "outputs": [],
   "source": [
    "%%writefile yourlastname.py\n",
    "import grass.script as gs\n",
    "\n",
    "def get_coordinates(points):\n",
    "    \"\"\"Helper function to get coordinate pairs from a vector point layer.\n",
    "    Do not modify.\"\"\"\n",
    "    data = gs.read_command(\"v.out.ascii\", input=points, separator=\"comma\").splitlines()\n",
    "    return [[float(coor) for coor in point.split(\",\")[:2]] for point in data]\n",
    "\n",
    "# modify here\n",
    "# change function name\n",
    "def myanalysis(elevation, points):\n",
    "    \"\"\"Traces a flow through an elevation model\"\"\"\n",
    "    coordinates = get_coordinates(points)\n",
    "    if coordinates:\n",
    "        gs.run_command(\"r.drain\", input=elevation, output=\"drain\", drain=\"drain_vector\", start_coordinates=coordinates)\n",
    "\n",
    "if __name__ == \"__main__\":\n",
    "    elevation = \"elevation\"\n",
    "    points = \"lagoon_points\"\n",
    "    myanalysis(elevation=elevation, points=points)"
   ]
  },
  {
   "cell_type": "code",
   "execution_count": null,
   "metadata": {
    "id": "aZGchSbHkY2v"
   },
   "outputs": [],
   "source": [
    "%%python yourlastname.py"
   ]
  },
  {
   "cell_type": "code",
   "execution_count": null,
   "metadata": {
    "id": "-hGVX4TEkuL7"
   },
   "outputs": [],
   "source": [
    "map = gj.Map()\n",
    "map.d_rast(map=\"elevation\")\n",
    "map.d_vect(map=\"drain_vector\")\n",
    "map.show()"
   ]
  }
 ],
 "metadata": {
  "colab": {
   "provenance": []
  },
  "kernelspec": {
   "display_name": "Python 3 (ipykernel)",
   "language": "python",
   "name": "python3"
  },
  "language_info": {
   "codemirror_mode": {
    "name": "ipython",
    "version": 3
   },
   "file_extension": ".py",
   "mimetype": "text/x-python",
   "name": "python",
   "nbconvert_exporter": "python",
   "pygments_lexer": "ipython3",
   "version": "3.9.9"
  }
 },
 "nbformat": 4,
 "nbformat_minor": 4
}
